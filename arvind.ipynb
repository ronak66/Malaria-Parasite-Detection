{
 "cells": [
  {
   "cell_type": "code",
   "execution_count": 73,
   "metadata": {},
   "outputs": [],
   "source": [
    "import matplotlib.pyplot as plt\n",
    "import cv2\n",
    "import numpy as np\n",
    "import pandas as pd\n",
    "import os,glob\n",
    "from sklearn.cluster import KMeans\n",
    "from sklearn import svm\n",
    "from sklearn.metrics import accuracy_score\n",
    "#import imutils\n",
    "# from keras.preprocessing.image import img_to_array\n",
    "# from sklearn import svm"
   ]
  },
  {
   "cell_type": "code",
   "execution_count": 74,
   "metadata": {},
   "outputs": [],
   "source": [
    "CLASS = [\"Parasitized\",\"Uninfected\"]\n",
    "LABELS = {\n",
    "    \"Parasitized\" : 0,\n",
    "    \"Uninfected\" : 1,\n",
    "}\n",
    "\n",
    "dataset_train = \"Data/train\"\n",
    "dataset_test = \"Data/test\"\n",
    "data_test_path = \"dataset/test\""
   ]
  },
  {
   "cell_type": "code",
   "execution_count": 75,
   "metadata": {},
   "outputs": [],
   "source": [
    "def generate_imagepath(base_path):\n",
    "    temp = []\n",
    "    for types in CLASS: \n",
    "        df = pd.DataFrame()\n",
    "        base_dir = os.path.join(base_path,types)\n",
    "        files = glob.glob(base_dir+'/*.png')\n",
    "        y = [LABELS[types]]*len(files)\n",
    "        df[\"FILE\"] = files\n",
    "        df[\"OUTPUT\"] = y\n",
    "        temp.append(df)\n",
    "    return pd.concat(temp).reset_index(drop=True)"
   ]
  },
  {
   "cell_type": "code",
   "execution_count": 76,
   "metadata": {},
   "outputs": [],
   "source": [
    "def generate_imagepath_test(base_path):\n",
    "    df = pd.DataFrame()\n",
    "    files = glob.glob(base_path+'/*.png')\n",
    "    df[\"FILE\"] = files\n",
    "    return df.reset_index(drop=True)"
   ]
  },
  {
   "cell_type": "code",
   "execution_count": 77,
   "metadata": {},
   "outputs": [],
   "source": [
    "def read_image(img_path):\n",
    "    image = cv2.resize(cv2.imread(img_path),(100,100))\n",
    "    return image"
   ]
  },
  {
   "cell_type": "code",
   "execution_count": 78,
   "metadata": {},
   "outputs": [],
   "source": [
    "def load_dataset(df,size=100,shuffle=True):\n",
    "    x = []\n",
    "    y = []\n",
    "    if(shuffle):\n",
    "        df = df.sample(frac=1).reset_index(drop=True)\n",
    "    for index, row in df.iterrows():\n",
    "        if(index<size):\n",
    "            x.append(read_image(row[\"FILE\"]))\n",
    "            y.append(row[\"OUTPUT\"])\n",
    "        else:\n",
    "            print(index)\n",
    "            break\n",
    "    return [x,y]"
   ]
  },
  {
   "cell_type": "code",
   "execution_count": 79,
   "metadata": {},
   "outputs": [],
   "source": [
    "def load_dataset_test(df):\n",
    "    x = []\n",
    "    for index, row in df.iterrows():\n",
    "        x.append(read_image(row[\"FILE\"]))\n",
    "    return x"
   ]
  },
  {
   "cell_type": "code",
   "execution_count": 80,
   "metadata": {},
   "outputs": [],
   "source": [
    "def show_image(image):\n",
    "    try:\n",
    "        plt.imshow(image[:, :, [2, 1, 0]])\n",
    "        plt.show()\n",
    "    except:\n",
    "        plt.imshow(image, cmap=\"gray\")\n",
    "        plt.show()"
   ]
  },
  {
   "cell_type": "code",
   "execution_count": 81,
   "metadata": {},
   "outputs": [],
   "source": [
    "data_train = generate_imagepath(dataset_train)\n",
    "data_test = generate_imagepath(dataset_test)\n",
    "data_test_new = generate_imagepath_test(data_test_path)\n",
    "# data_test.shape\n",
    "# [x_train,y_train] = load_dataset(data_train,7000)\n",
    "# [x_test,y_test] = load_dataset(data_test,5512)\n",
    "x_test = load_dataset_test(data_test_new)"
   ]
  },
  {
   "cell_type": "code",
   "execution_count": 82,
   "metadata": {},
   "outputs": [
    {
     "name": "stdout",
     "output_type": "stream",
     "text": [
      "1587\n"
     ]
    }
   ],
   "source": [
    "print(len(x_test))"
   ]
  },
  {
   "cell_type": "markdown",
   "metadata": {},
   "source": [
    "## Preprocessing"
   ]
  },
  {
   "cell_type": "code",
   "execution_count": 83,
   "metadata": {},
   "outputs": [],
   "source": [
    "def change_contrast(image,alpha = 1.5,beta=25):\n",
    "    # Contrast control (1.0-3.0)\n",
    "    # Brightness control (0-100)\n",
    "    adjusted = cv2.convertScaleAbs(image, alpha=alpha, beta=beta)\n",
    "    return adjusted"
   ]
  },
  {
   "cell_type": "code",
   "execution_count": 84,
   "metadata": {},
   "outputs": [],
   "source": [
    "def image_cleanup(image):\n",
    "    blurred = cv2.GaussianBlur(image, (3, 3), cv2.BORDER_DEFAULT)\n",
    "    thresh = cv2.threshold(blurred, 185, 250, cv2.THRESH_BINARY)[1]\n",
    "    return thresh"
   ]
  },
  {
   "cell_type": "code",
   "execution_count": 85,
   "metadata": {},
   "outputs": [],
   "source": [
    "def remove_noisy_regions(image):\n",
    "    gray = cv2.cvtColor(image, cv2.COLOR_BGR2HSV) \n",
    "    element = cv2.getStructuringElement(cv2.MORPH_RECT, (1,1))\n",
    "    mask = cv2.erode(gray, element, iterations = 50)\n",
    "    mask = cv2.dilate(mask, element, iterations = 50)\n",
    "    element = cv2.getStructuringElement(cv2.MORPH_RECT, (2,2))\n",
    "    mask = cv2.erode(gray, element, iterations = 1)\n",
    "    mask = cv2.dilate(mask, element, iterations = 1)\n",
    "    mask = cv2.erode(mask, element)\n",
    "    gray = cv2.cvtColor(mask, cv2.COLOR_HSV2BGR)\n",
    "    return gray"
   ]
  },
  {
   "cell_type": "code",
   "execution_count": 86,
   "metadata": {},
   "outputs": [],
   "source": [
    "def preprocess(image):\n",
    "    i1 = change_contrast(image,1.8,10)\n",
    "    i2 = image_cleanup(i1)\n",
    "    img = remove_noisy_regions(i2)\n",
    "    h,s,v = cv2.split(img)\n",
    "    ab = cv2.subtract(h,s)\n",
    "#     th, threshed = cv2.threshold(s, 100, 255, cv2.THRESH_OTSU|cv2.THRESH_BINARY_INV)\n",
    "    return ab"
   ]
  },
  {
   "cell_type": "code",
   "execution_count": 431,
   "metadata": {
    "scrolled": false
   },
   "outputs": [
    {
     "name": "stdout",
     "output_type": "stream",
     "text": [
      "0\n"
     ]
    },
    {
     "data": {
      "image/png": "[encoded data removed]",
      "text/plain": [
       "<Figure size 432x288 with 1 Axes>"
      ]
     },
     "metadata": {},
     "output_type": "display_data"
    },
    {
     "data": {
      "image/png": "[encoded data removed]",
      "text/plain": [
       "<Figure size 432x288 with 1 Axes>"
      ]
     },
     "metadata": {},
     "output_type": "display_data"
    },
    {
     "data": {
      "image/png": "[encoded data removed]",
      "text/plain": [
       "<Figure size 432x288 with 1 Axes>"
      ]
     },
     "metadata": {},
     "output_type": "display_data"
    },
    {
     "data": {
      "image/png": "[encoded data removed]",
      "text/plain": [
       "<Figure size 432x288 with 1 Axes>"
      ]
     },
     "metadata": {},
     "output_type": "display_data"
    },
    {
     "data": {
      "image/png": "[encoded data removed]",
      "text/plain": [
       "<Figure size 432x288 with 1 Axes>"
      ]
     },
     "metadata": {},
     "output_type": "display_data"
    },
    {
     "data": {
      "image/png": "[encoded data removed]",
      "text/plain": [
       "<Figure size 432x288 with 1 Axes>"
      ]
     },
     "metadata": {},
     "output_type": "display_data"
    }
   ],
   "source": [
    "num = 12\n",
    "lll = prob[num]\n",
    "print(prob_y[num])\n",
    "\n",
    "# ab = preprocess(lll)\n",
    "# show_image(lll)\n",
    "# show_image(ab)\n",
    "\n",
    "i1 = change_contrast(lll,1.5,10)\n",
    "i2 = image_cleanup(i1)\n",
    "img = remove_noisy_regions(i2)\n",
    "h,s,v = cv2.split(img)\n",
    "ab = cv2.subtract(h,s)\n",
    "# th, threshed = cv2.threshold(s, 100, 255, cv2.THRESH_BINARY)\n",
    "\n",
    "show_image(lll)\n",
    "show_image(i1)\n",
    "show_image(i2)\n",
    "show_image(h)\n",
    "show_image(s)\n",
    "show_image(ab)"
   ]
  },
  {
   "cell_type": "markdown",
   "metadata": {},
   "source": [
    "## Blob Detection"
   ]
  },
  {
   "cell_type": "code",
   "execution_count": 87,
   "metadata": {},
   "outputs": [],
   "source": [
    "def find_contours_and_centers(img_input):\n",
    "    contours_raw, hierarchy = cv2.findContours(img_input, cv2.RETR_TREE,cv2.CHAIN_APPROX_SIMPLE)\n",
    "    contours = [i for i in contours_raw]\n",
    "    contour_centers = []\n",
    "    \n",
    "    for idx, c in enumerate(contours):\n",
    "        M = cv2.moments(c)\n",
    "        try:\n",
    "            cX = int(M[\"m10\"] / M[\"m00\"])\n",
    "            cY = int(M[\"m01\"] / M[\"m00\"])\n",
    "        except:\n",
    "            cX = int(M[\"m10\"] / (M[\"m00\"] + 0.0001))\n",
    "            cY = int(M[\"m01\"] / (M[\"m00\"] + 0.0001))\n",
    "        samp_bounds = cv2.boundingRect(c)\n",
    "        contour_centers.append(((cX,cY), samp_bounds))\n",
    "    contour_centers = sorted(contour_centers, key=lambda x: x[0])\n",
    "\n",
    "    return (contours, contour_centers)"
   ]
  },
  {
   "cell_type": "code",
   "execution_count": 17,
   "metadata": {},
   "outputs": [
    {
     "ename": "NameError",
     "evalue": "name 'ab' is not defined",
     "output_type": "error",
     "traceback": [
      "\u001b[0;31m---------------------------------------------------------------------------\u001b[0m",
      "\u001b[0;31mNameError\u001b[0m                                 Traceback (most recent call last)",
      "\u001b[0;32m<ipython-input-17-b21e326acb07>\u001b[0m in \u001b[0;36m<module>\u001b[0;34m()\u001b[0m\n\u001b[0;32m----> 1\u001b[0;31m \u001b[0mconts\u001b[0m\u001b[0;34m,\u001b[0m \u001b[0mcents\u001b[0m \u001b[0;34m=\u001b[0m \u001b[0mfind_contours_and_centers\u001b[0m\u001b[0;34m(\u001b[0m\u001b[0mab\u001b[0m\u001b[0;34m)\u001b[0m\u001b[0;34m\u001b[0m\u001b[0;34m\u001b[0m\u001b[0m\n\u001b[0m\u001b[1;32m      2\u001b[0m \u001b[0;31m# circles = [i for i in conts if np.logical_and((cv2.contourArea(i) > 650),(cv2.contourArea(i) < 4000))]\u001b[0m\u001b[0;34m\u001b[0m\u001b[0;34m\u001b[0m\u001b[0;34m\u001b[0m\u001b[0m\n\u001b[1;32m      3\u001b[0m \u001b[0mprint\u001b[0m\u001b[0;34m(\u001b[0m\u001b[0mlen\u001b[0m\u001b[0;34m(\u001b[0m\u001b[0mcents\u001b[0m\u001b[0;34m)\u001b[0m\u001b[0;34m)\u001b[0m\u001b[0;34m\u001b[0m\u001b[0;34m\u001b[0m\u001b[0m\n\u001b[1;32m      4\u001b[0m \u001b[0mimg\u001b[0m \u001b[0;34m=\u001b[0m \u001b[0mlll\u001b[0m\u001b[0;34m.\u001b[0m\u001b[0mcopy\u001b[0m\u001b[0;34m(\u001b[0m\u001b[0;34m)\u001b[0m\u001b[0;34m\u001b[0m\u001b[0;34m\u001b[0m\u001b[0m\n\u001b[1;32m      5\u001b[0m \u001b[0mcv2\u001b[0m\u001b[0;34m.\u001b[0m\u001b[0mdrawContours\u001b[0m\u001b[0;34m(\u001b[0m\u001b[0mimg\u001b[0m\u001b[0;34m,\u001b[0m \u001b[0mconts\u001b[0m\u001b[0;34m,\u001b[0m \u001b[0;34m-\u001b[0m\u001b[0;36m1\u001b[0m\u001b[0;34m,\u001b[0m \u001b[0;34m(\u001b[0m\u001b[0;36m0\u001b[0m\u001b[0;34m,\u001b[0m\u001b[0;36m255\u001b[0m\u001b[0;34m,\u001b[0m\u001b[0;36m0\u001b[0m\u001b[0;34m)\u001b[0m\u001b[0;34m,\u001b[0m \u001b[0;36m2\u001b[0m\u001b[0;34m)\u001b[0m\u001b[0;34m\u001b[0m\u001b[0;34m\u001b[0m\u001b[0m\n",
      "\u001b[0;31mNameError\u001b[0m: name 'ab' is not defined"
     ]
    }
   ],
   "source": [
    "conts, cents = find_contours_and_centers(ab)\n",
    "# circles = [i for i in conts if np.logical_and((cv2.contourArea(i) > 650),(cv2.contourArea(i) < 4000))]\n",
    "print(len(cents))\n",
    "img = lll.copy()\n",
    "cv2.drawContours(img, conts, -1, (0,255,0), 2)\n",
    "show_image(img)"
   ]
  },
  {
   "cell_type": "markdown",
   "metadata": {},
   "source": [
    "## Prediction"
   ]
  },
  {
   "cell_type": "code",
   "execution_count": 46,
   "metadata": {},
   "outputs": [
    {
     "name": "stdout",
     "output_type": "stream",
     "text": [
      "0.9403120464441219\n"
     ]
    }
   ],
   "source": [
    "count = 0\n",
    "total = 0\n",
    "prob_i = []\n",
    "prob = []\n",
    "prob_y = []\n",
    "for i in range(len(x_test)):\n",
    "    im_processed = preprocess(x_test[i])\n",
    "    try:\n",
    "        conts, cents = find_contours_and_centers(im_processed)\n",
    "    except:\n",
    "        continue\n",
    "    if(len(cents) >= 1 and y_test[i] == 0):\n",
    "        count +=1 \n",
    "    elif(len(cents) == 0 and y_test[i] == 1):\n",
    "        count +=1\n",
    "    else: \n",
    "        prob.append(x_test[i])\n",
    "        prob_y.append(y_test[i])\n",
    "    total += 1\n",
    "print(count/total)"
   ]
  },
  {
   "cell_type": "code",
   "execution_count": 88,
   "metadata": {},
   "outputs": [],
   "source": [
    "y_out = []\n",
    "for i in range(len(x_test)):\n",
    "    im_processed = preprocess(x_test[i])\n",
    "    conts, cents = find_contours_and_centers(im_processed)\n",
    "    if(len(cents) >= 1):\n",
    "        y_out.append(1)\n",
    "    else:\n",
    "        y_out.append(0)\n",
    "    total += 1"
   ]
  },
  {
   "cell_type": "code",
   "execution_count": 403,
   "metadata": {},
   "outputs": [
    {
     "name": "stdout",
     "output_type": "stream",
     "text": [
      "5961\n",
      "6275\n",
      "314\n"
     ]
    }
   ],
   "source": [
    "print(count)\n",
    "print(total)\n",
    "print(len(prob))"
   ]
  },
  {
   "cell_type": "code",
   "execution_count": 89,
   "metadata": {},
   "outputs": [],
   "source": [
    "data_test_new.columns = [\"Name\"]\n",
    "data_test_new[\"Label\"] = y_out\n",
    "data_test_new.to_csv(\"output.csv\", encoding='utf-8', index=False)"
   ]
  },
  {
   "cell_type": "markdown",
   "metadata": {},
   "source": [
    "## Feature Extraction Using OpenCV"
   ]
  },
  {
   "cell_type": "code",
   "execution_count": 404,
   "metadata": {},
   "outputs": [],
   "source": [
    "def extract_features(image,vector_size=20):\n",
    "    algo = cv2.xfeatures2d.SURF_create()\n",
    "    kps, dsc = algo.detectAndCompute(image,None)\n",
    "    combined = zip(kps,dsc)\n",
    "    combined = list(combined)\n",
    "    combined.sort(key = lambda x: x[0].response,reverse=True)\n",
    "    combined = combined[0:vector_size]\n",
    "    dsc = [x[1] for x in combined]\n",
    "    kps = [x[0] for x in combined]\n",
    "    return [image,kps,dsc]"
   ]
  },
  {
   "cell_type": "code",
   "execution_count": 409,
   "metadata": {},
   "outputs": [
    {
     "data": {
      "image/png": "[encoded data removed]",
      "text/plain": [
       "<Figure size 432x288 with 1 Axes>"
      ]
     },
     "metadata": {},
     "output_type": "display_data"
    },
    {
     "data": {
      "image/png": "[encoded data removed]",
      "text/plain": [
       "<Figure size 432x288 with 1 Axes>"
      ]
     },
     "metadata": {},
     "output_type": "display_data"
    }
   ],
   "source": [
    "kps_size = 20\n",
    "[img1,kps1,des1] = extract_features(lll,kps_size)\n",
    "[img2,kps2,des2] = extract_features(i1,kps_size)\n",
    "copy1 = cv2.drawKeypoints(img1,kps1, outImage = None)\n",
    "copy2 = cv2.drawKeypoints(img2,kps2, outImage = None)\n",
    "show_image(copy1)\n",
    "show_image(copy2)"
   ]
  },
  {
   "cell_type": "markdown",
   "metadata": {},
   "source": [
    "## Model Building"
   ]
  },
  {
   "cell_type": "code",
   "execution_count": 52,
   "metadata": {},
   "outputs": [],
   "source": [
    "def calculate_histogram(images, model,n):\n",
    "    feature_vectors=[]\n",
    "    for image in images :\n",
    "        img = preprocess(image)\n",
    "        [img,kps,des] = extract_features(img)\n",
    "        predict_kmeans = model.predict(des)\n",
    "        hist, bin_edges = np.histogram(predict_kmeans, bins = n)\n",
    "        feature_vectors.append(hist)\n",
    "    feature_vectors=np.asarray(feature_vectors)\n",
    "    return np.array(feature_vectors)"
   ]
  },
  {
   "cell_type": "code",
   "execution_count": 57,
   "metadata": {},
   "outputs": [
    {
     "ename": "TypeError",
     "evalue": "zip argument #2 must support iteration",
     "output_type": "error",
     "traceback": [
      "\u001b[0;31m---------------------------------------------------------------------------\u001b[0m",
      "\u001b[0;31mTypeError\u001b[0m                                 Traceback (most recent call last)",
      "\u001b[0;32m<ipython-input-57-4b841791f3fd>\u001b[0m in \u001b[0;36m<module>\u001b[0;34m()\u001b[0m\n\u001b[1;32m      4\u001b[0m \u001b[0;32mfor\u001b[0m \u001b[0mimage\u001b[0m \u001b[0;32min\u001b[0m \u001b[0mx_train\u001b[0m \u001b[0;34m:\u001b[0m\u001b[0;34m\u001b[0m\u001b[0;34m\u001b[0m\u001b[0m\n\u001b[1;32m      5\u001b[0m     \u001b[0mimg\u001b[0m \u001b[0;34m=\u001b[0m \u001b[0mpreprocess\u001b[0m\u001b[0;34m(\u001b[0m\u001b[0mimage\u001b[0m\u001b[0;34m)\u001b[0m\u001b[0;34m\u001b[0m\u001b[0;34m\u001b[0m\u001b[0m\n\u001b[0;32m----> 6\u001b[0;31m     \u001b[0;34m[\u001b[0m\u001b[0mimg\u001b[0m\u001b[0;34m,\u001b[0m\u001b[0mkps\u001b[0m\u001b[0;34m,\u001b[0m\u001b[0mdes\u001b[0m\u001b[0;34m]\u001b[0m \u001b[0;34m=\u001b[0m \u001b[0mextract_features\u001b[0m\u001b[0;34m(\u001b[0m\u001b[0mimg\u001b[0m\u001b[0;34m)\u001b[0m\u001b[0;34m\u001b[0m\u001b[0;34m\u001b[0m\u001b[0m\n\u001b[0m\u001b[1;32m      7\u001b[0m     \u001b[0msift_keypoints\u001b[0m\u001b[0;34m.\u001b[0m\u001b[0mappend\u001b[0m\u001b[0;34m(\u001b[0m\u001b[0mdes\u001b[0m\u001b[0;34m)\u001b[0m\u001b[0;34m\u001b[0m\u001b[0;34m\u001b[0m\u001b[0m\n\u001b[1;32m      8\u001b[0m \u001b[0msift_keypoints\u001b[0m \u001b[0;34m=\u001b[0m \u001b[0mnp\u001b[0m\u001b[0;34m.\u001b[0m\u001b[0mconcatenate\u001b[0m\u001b[0;34m(\u001b[0m\u001b[0msift_keypoints\u001b[0m\u001b[0;34m,\u001b[0m \u001b[0maxis\u001b[0m\u001b[0;34m=\u001b[0m\u001b[0;36m0\u001b[0m\u001b[0;34m)\u001b[0m\u001b[0;34m\u001b[0m\u001b[0;34m\u001b[0m\u001b[0m\n",
      "\u001b[0;32m<ipython-input-46-401bcad8793b>\u001b[0m in \u001b[0;36mextract_features\u001b[0;34m(image, vector_size)\u001b[0m\n\u001b[1;32m      2\u001b[0m     \u001b[0malgo\u001b[0m \u001b[0;34m=\u001b[0m \u001b[0mcv2\u001b[0m\u001b[0;34m.\u001b[0m\u001b[0mxfeatures2d\u001b[0m\u001b[0;34m.\u001b[0m\u001b[0mSURF_create\u001b[0m\u001b[0;34m(\u001b[0m\u001b[0;34m)\u001b[0m\u001b[0;34m\u001b[0m\u001b[0;34m\u001b[0m\u001b[0m\n\u001b[1;32m      3\u001b[0m     \u001b[0mkps\u001b[0m\u001b[0;34m,\u001b[0m \u001b[0mdsc\u001b[0m \u001b[0;34m=\u001b[0m \u001b[0malgo\u001b[0m\u001b[0;34m.\u001b[0m\u001b[0mdetectAndCompute\u001b[0m\u001b[0;34m(\u001b[0m\u001b[0mimage\u001b[0m\u001b[0;34m,\u001b[0m\u001b[0;32mNone\u001b[0m\u001b[0;34m)\u001b[0m\u001b[0;34m\u001b[0m\u001b[0;34m\u001b[0m\u001b[0m\n\u001b[0;32m----> 4\u001b[0;31m     \u001b[0mcombined\u001b[0m \u001b[0;34m=\u001b[0m \u001b[0mzip\u001b[0m\u001b[0;34m(\u001b[0m\u001b[0mkps\u001b[0m\u001b[0;34m,\u001b[0m\u001b[0mdsc\u001b[0m\u001b[0;34m)\u001b[0m\u001b[0;34m\u001b[0m\u001b[0;34m\u001b[0m\u001b[0m\n\u001b[0m\u001b[1;32m      5\u001b[0m     \u001b[0mcombined\u001b[0m \u001b[0;34m=\u001b[0m \u001b[0mlist\u001b[0m\u001b[0;34m(\u001b[0m\u001b[0mcombined\u001b[0m\u001b[0;34m)\u001b[0m\u001b[0;34m\u001b[0m\u001b[0;34m\u001b[0m\u001b[0m\n\u001b[1;32m      6\u001b[0m     \u001b[0mcombined\u001b[0m\u001b[0;34m.\u001b[0m\u001b[0msort\u001b[0m\u001b[0;34m(\u001b[0m\u001b[0mkey\u001b[0m \u001b[0;34m=\u001b[0m \u001b[0;32mlambda\u001b[0m \u001b[0mx\u001b[0m\u001b[0;34m:\u001b[0m \u001b[0mx\u001b[0m\u001b[0;34m[\u001b[0m\u001b[0;36m0\u001b[0m\u001b[0;34m]\u001b[0m\u001b[0;34m.\u001b[0m\u001b[0mresponse\u001b[0m\u001b[0;34m,\u001b[0m\u001b[0mreverse\u001b[0m\u001b[0;34m=\u001b[0m\u001b[0;32mTrue\u001b[0m\u001b[0;34m)\u001b[0m\u001b[0;34m\u001b[0m\u001b[0;34m\u001b[0m\u001b[0m\n",
      "\u001b[0;31mTypeError\u001b[0m: zip argument #2 must support iteration"
     ]
    }
   ],
   "source": [
    "sift_keypoints = []\n",
    "num_of_clusters= 20\n",
    "\n",
    "for image in x_train :\n",
    "    img = preprocess(image)\n",
    "    [img,kps,des] = extract_features(img)\n",
    "    sift_keypoints.append(des)\n",
    "sift_keypoints = np.concatenate(sift_keypoints, axis=0)\n",
    "kmeans = KMeans(n_clusters = num_of_clusters).fit(sift_keypoints)\n",
    "sift_keypoints.shape"
   ]
  },
  {
   "cell_type": "code",
   "execution_count": null,
   "metadata": {},
   "outputs": [],
   "source": [
    "x_feat_train = calculate_histogram(x_train, kmeans,num_of_clusters)\n",
    "x_feat_test = calculate_histogram(x_test, kmeans,num_of_clusters)"
   ]
  },
  {
   "cell_type": "code",
   "execution_count": null,
   "metadata": {},
   "outputs": [],
   "source": [
    "from sklearn.ensemble import RandomForestClassifier\n",
    "rf = RandomForestClassifier(n_estimators = 1000)\n",
    "rf.fit(x_feat_train, y_train);\n",
    "\n",
    "y_pred = rf.predict(x_feat_test)\n",
    "accuracy_score(y_pred, y_test)"
   ]
  }
 ],
 "metadata": {
  "file_extension": ".py",
  "kernelspec": {
   "display_name": "Python 3",
   "language": "python",
   "name": "python3"
  },
  "language_info": {
   "codemirror_mode": {
    "name": "ipython",
    "version": 3
   },
   "file_extension": ".py",
   "mimetype": "text/x-python",
   "name": "python",
   "nbconvert_exporter": "python",
   "pygments_lexer": "ipython3",
   "version": "3.6.8"
  },
  "mimetype": "text/x-python",
  "name": "python",
  "npconvert_exporter": "python",
  "pygments_lexer": "ipython3",
  "version": 3
 },
 "nbformat": 4,
 "nbformat_minor": 2
}
